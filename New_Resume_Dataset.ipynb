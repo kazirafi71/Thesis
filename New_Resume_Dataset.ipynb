{
  "nbformat": 4,
  "nbformat_minor": 0,
  "metadata": {
    "colab": {
      "provenance": [],
      "collapsed_sections": [],
      "mount_file_id": "18rXQL5x9LFUdUCEUy0Cqf-rNddRv_LZO",
      "authorship_tag": "ABX9TyPRmTN2rINvn1PdBqxW/o3U",
      "include_colab_link": true
    },
    "kernelspec": {
      "name": "python3",
      "display_name": "Python 3"
    },
    "language_info": {
      "name": "python"
    }
  },
  "cells": [
    {
      "cell_type": "markdown",
      "metadata": {
        "id": "view-in-github",
        "colab_type": "text"
      },
      "source": [
        "<a href=\"https://colab.research.google.com/github/kazirafi71/Thesis/blob/master/New_Resume_Dataset.ipynb\" target=\"_parent\"><img src=\"https://colab.research.google.com/assets/colab-badge.svg\" alt=\"Open In Colab\"/></a>"
      ]
    },
    {
      "cell_type": "code",
      "execution_count": 66,
      "metadata": {
        "colab": {
          "base_uri": "https://localhost:8080/"
        },
        "id": "w1Z0KNVsB-XP",
        "outputId": "e8501474-528c-4ce0-db18-a922a75eac4f"
      },
      "outputs": [
        {
          "output_type": "stream",
          "name": "stdout",
          "text": [
            "Looking in indexes: https://pypi.org/simple, https://us-python.pkg.dev/colab-wheels/public/simple/\n",
            "Requirement already satisfied: tensorflow-text in /usr/local/lib/python3.7/dist-packages (2.10.0)\n",
            "Requirement already satisfied: tensorflow-hub>=0.8.0 in /usr/local/lib/python3.7/dist-packages (from tensorflow-text) (0.12.0)\n",
            "Requirement already satisfied: tensorflow<2.11,>=2.10.0 in /usr/local/lib/python3.7/dist-packages (from tensorflow-text) (2.10.0)\n",
            "Requirement already satisfied: keras-preprocessing>=1.1.1 in /usr/local/lib/python3.7/dist-packages (from tensorflow<2.11,>=2.10.0->tensorflow-text) (1.1.2)\n",
            "Requirement already satisfied: protobuf<3.20,>=3.9.2 in /usr/local/lib/python3.7/dist-packages (from tensorflow<2.11,>=2.10.0->tensorflow-text) (3.17.3)\n",
            "Requirement already satisfied: flatbuffers>=2.0 in /usr/local/lib/python3.7/dist-packages (from tensorflow<2.11,>=2.10.0->tensorflow-text) (22.9.24)\n",
            "Requirement already satisfied: wrapt>=1.11.0 in /usr/local/lib/python3.7/dist-packages (from tensorflow<2.11,>=2.10.0->tensorflow-text) (1.14.1)\n",
            "Requirement already satisfied: six>=1.12.0 in /usr/local/lib/python3.7/dist-packages (from tensorflow<2.11,>=2.10.0->tensorflow-text) (1.15.0)\n",
            "Requirement already satisfied: gast<=0.4.0,>=0.2.1 in /usr/local/lib/python3.7/dist-packages (from tensorflow<2.11,>=2.10.0->tensorflow-text) (0.4.0)\n",
            "Requirement already satisfied: typing-extensions>=3.6.6 in /usr/local/lib/python3.7/dist-packages (from tensorflow<2.11,>=2.10.0->tensorflow-text) (4.1.1)\n",
            "Requirement already satisfied: numpy>=1.20 in /usr/local/lib/python3.7/dist-packages (from tensorflow<2.11,>=2.10.0->tensorflow-text) (1.21.6)\n",
            "Requirement already satisfied: termcolor>=1.1.0 in /usr/local/lib/python3.7/dist-packages (from tensorflow<2.11,>=2.10.0->tensorflow-text) (2.0.1)\n",
            "Requirement already satisfied: tensorflow-io-gcs-filesystem>=0.23.1 in /usr/local/lib/python3.7/dist-packages (from tensorflow<2.11,>=2.10.0->tensorflow-text) (0.27.0)\n",
            "Requirement already satisfied: opt-einsum>=2.3.2 in /usr/local/lib/python3.7/dist-packages (from tensorflow<2.11,>=2.10.0->tensorflow-text) (3.3.0)\n",
            "Requirement already satisfied: tensorflow-estimator<2.11,>=2.10.0 in /usr/local/lib/python3.7/dist-packages (from tensorflow<2.11,>=2.10.0->tensorflow-text) (2.10.0)\n",
            "Requirement already satisfied: absl-py>=1.0.0 in /usr/local/lib/python3.7/dist-packages (from tensorflow<2.11,>=2.10.0->tensorflow-text) (1.2.0)\n",
            "Requirement already satisfied: libclang>=13.0.0 in /usr/local/lib/python3.7/dist-packages (from tensorflow<2.11,>=2.10.0->tensorflow-text) (14.0.6)\n",
            "Requirement already satisfied: setuptools in /usr/local/lib/python3.7/dist-packages (from tensorflow<2.11,>=2.10.0->tensorflow-text) (57.4.0)\n",
            "Requirement already satisfied: packaging in /usr/local/lib/python3.7/dist-packages (from tensorflow<2.11,>=2.10.0->tensorflow-text) (21.3)\n",
            "Requirement already satisfied: h5py>=2.9.0 in /usr/local/lib/python3.7/dist-packages (from tensorflow<2.11,>=2.10.0->tensorflow-text) (3.1.0)\n",
            "Requirement already satisfied: google-pasta>=0.1.1 in /usr/local/lib/python3.7/dist-packages (from tensorflow<2.11,>=2.10.0->tensorflow-text) (0.2.0)\n",
            "Requirement already satisfied: tensorboard<2.11,>=2.10 in /usr/local/lib/python3.7/dist-packages (from tensorflow<2.11,>=2.10.0->tensorflow-text) (2.10.1)\n",
            "Requirement already satisfied: grpcio<2.0,>=1.24.3 in /usr/local/lib/python3.7/dist-packages (from tensorflow<2.11,>=2.10.0->tensorflow-text) (1.49.1)\n",
            "Requirement already satisfied: keras<2.11,>=2.10.0 in /usr/local/lib/python3.7/dist-packages (from tensorflow<2.11,>=2.10.0->tensorflow-text) (2.10.0)\n",
            "Requirement already satisfied: astunparse>=1.6.0 in /usr/local/lib/python3.7/dist-packages (from tensorflow<2.11,>=2.10.0->tensorflow-text) (1.6.3)\n",
            "Requirement already satisfied: wheel<1.0,>=0.23.0 in /usr/local/lib/python3.7/dist-packages (from astunparse>=1.6.0->tensorflow<2.11,>=2.10.0->tensorflow-text) (0.37.1)\n",
            "Requirement already satisfied: cached-property in /usr/local/lib/python3.7/dist-packages (from h5py>=2.9.0->tensorflow<2.11,>=2.10.0->tensorflow-text) (1.5.2)\n",
            "Requirement already satisfied: requests<3,>=2.21.0 in /usr/local/lib/python3.7/dist-packages (from tensorboard<2.11,>=2.10->tensorflow<2.11,>=2.10.0->tensorflow-text) (2.23.0)\n",
            "Requirement already satisfied: tensorboard-data-server<0.7.0,>=0.6.0 in /usr/local/lib/python3.7/dist-packages (from tensorboard<2.11,>=2.10->tensorflow<2.11,>=2.10.0->tensorflow-text) (0.6.1)\n",
            "Requirement already satisfied: tensorboard-plugin-wit>=1.6.0 in /usr/local/lib/python3.7/dist-packages (from tensorboard<2.11,>=2.10->tensorflow<2.11,>=2.10.0->tensorflow-text) (1.8.1)\n",
            "Requirement already satisfied: werkzeug>=1.0.1 in /usr/local/lib/python3.7/dist-packages (from tensorboard<2.11,>=2.10->tensorflow<2.11,>=2.10.0->tensorflow-text) (1.0.1)\n",
            "Requirement already satisfied: google-auth-oauthlib<0.5,>=0.4.1 in /usr/local/lib/python3.7/dist-packages (from tensorboard<2.11,>=2.10->tensorflow<2.11,>=2.10.0->tensorflow-text) (0.4.6)\n",
            "Requirement already satisfied: markdown>=2.6.8 in /usr/local/lib/python3.7/dist-packages (from tensorboard<2.11,>=2.10->tensorflow<2.11,>=2.10.0->tensorflow-text) (3.4.1)\n",
            "Requirement already satisfied: google-auth<3,>=1.6.3 in /usr/local/lib/python3.7/dist-packages (from tensorboard<2.11,>=2.10->tensorflow<2.11,>=2.10.0->tensorflow-text) (1.35.0)\n",
            "Requirement already satisfied: cachetools<5.0,>=2.0.0 in /usr/local/lib/python3.7/dist-packages (from google-auth<3,>=1.6.3->tensorboard<2.11,>=2.10->tensorflow<2.11,>=2.10.0->tensorflow-text) (4.2.4)\n",
            "Requirement already satisfied: pyasn1-modules>=0.2.1 in /usr/local/lib/python3.7/dist-packages (from google-auth<3,>=1.6.3->tensorboard<2.11,>=2.10->tensorflow<2.11,>=2.10.0->tensorflow-text) (0.2.8)\n",
            "Requirement already satisfied: rsa<5,>=3.1.4 in /usr/local/lib/python3.7/dist-packages (from google-auth<3,>=1.6.3->tensorboard<2.11,>=2.10->tensorflow<2.11,>=2.10.0->tensorflow-text) (4.9)\n",
            "Requirement already satisfied: requests-oauthlib>=0.7.0 in /usr/local/lib/python3.7/dist-packages (from google-auth-oauthlib<0.5,>=0.4.1->tensorboard<2.11,>=2.10->tensorflow<2.11,>=2.10.0->tensorflow-text) (1.3.1)\n",
            "Requirement already satisfied: importlib-metadata>=4.4 in /usr/local/lib/python3.7/dist-packages (from markdown>=2.6.8->tensorboard<2.11,>=2.10->tensorflow<2.11,>=2.10.0->tensorflow-text) (5.0.0)\n",
            "Requirement already satisfied: zipp>=0.5 in /usr/local/lib/python3.7/dist-packages (from importlib-metadata>=4.4->markdown>=2.6.8->tensorboard<2.11,>=2.10->tensorflow<2.11,>=2.10.0->tensorflow-text) (3.9.0)\n",
            "Requirement already satisfied: pyasn1<0.5.0,>=0.4.6 in /usr/local/lib/python3.7/dist-packages (from pyasn1-modules>=0.2.1->google-auth<3,>=1.6.3->tensorboard<2.11,>=2.10->tensorflow<2.11,>=2.10.0->tensorflow-text) (0.4.8)\n",
            "Requirement already satisfied: certifi>=2017.4.17 in /usr/local/lib/python3.7/dist-packages (from requests<3,>=2.21.0->tensorboard<2.11,>=2.10->tensorflow<2.11,>=2.10.0->tensorflow-text) (2022.9.24)\n",
            "Requirement already satisfied: urllib3!=1.25.0,!=1.25.1,<1.26,>=1.21.1 in /usr/local/lib/python3.7/dist-packages (from requests<3,>=2.21.0->tensorboard<2.11,>=2.10->tensorflow<2.11,>=2.10.0->tensorflow-text) (1.24.3)\n",
            "Requirement already satisfied: chardet<4,>=3.0.2 in /usr/local/lib/python3.7/dist-packages (from requests<3,>=2.21.0->tensorboard<2.11,>=2.10->tensorflow<2.11,>=2.10.0->tensorflow-text) (3.0.4)\n",
            "Requirement already satisfied: idna<3,>=2.5 in /usr/local/lib/python3.7/dist-packages (from requests<3,>=2.21.0->tensorboard<2.11,>=2.10->tensorflow<2.11,>=2.10.0->tensorflow-text) (2.10)\n",
            "Requirement already satisfied: oauthlib>=3.0.0 in /usr/local/lib/python3.7/dist-packages (from requests-oauthlib>=0.7.0->google-auth-oauthlib<0.5,>=0.4.1->tensorboard<2.11,>=2.10->tensorflow<2.11,>=2.10.0->tensorflow-text) (3.2.1)\n",
            "Requirement already satisfied: pyparsing!=3.0.5,>=2.0.2 in /usr/local/lib/python3.7/dist-packages (from packaging->tensorflow<2.11,>=2.10.0->tensorflow-text) (3.0.9)\n"
          ]
        }
      ],
      "source": [
        "pip install tensorflow-text\n"
      ]
    },
    {
      "cell_type": "code",
      "source": [
        "\n",
        "import tensorflow as tf\n",
        "import tensorflow_hub as hub\n",
        "\n"
      ],
      "metadata": {
        "id": "QO11jspl_Y5n"
      },
      "execution_count": 67,
      "outputs": []
    },
    {
      "cell_type": "code",
      "source": [
        "pip install --upgrade tensorflow-hub"
      ],
      "metadata": {
        "colab": {
          "base_uri": "https://localhost:8080/"
        },
        "id": "599VXnas_rGu",
        "outputId": "9512f1b1-ef59-4f35-fd46-a86c0b679ab3"
      },
      "execution_count": 68,
      "outputs": [
        {
          "output_type": "stream",
          "name": "stdout",
          "text": [
            "Looking in indexes: https://pypi.org/simple, https://us-python.pkg.dev/colab-wheels/public/simple/\n",
            "Requirement already satisfied: tensorflow-hub in /usr/local/lib/python3.7/dist-packages (0.12.0)\n",
            "Requirement already satisfied: numpy>=1.12.0 in /usr/local/lib/python3.7/dist-packages (from tensorflow-hub) (1.21.6)\n",
            "Requirement already satisfied: protobuf>=3.8.0 in /usr/local/lib/python3.7/dist-packages (from tensorflow-hub) (3.17.3)\n",
            "Requirement already satisfied: six>=1.9 in /usr/local/lib/python3.7/dist-packages (from protobuf>=3.8.0->tensorflow-hub) (1.15.0)\n"
          ]
        }
      ]
    },
    {
      "cell_type": "code",
      "source": [],
      "metadata": {
        "id": "1PCjhGNt-3Px"
      },
      "execution_count": 68,
      "outputs": []
    },
    {
      "cell_type": "code",
      "source": [
        "import nltk\n",
        "nltk.download('stopwords')"
      ],
      "metadata": {
        "colab": {
          "base_uri": "https://localhost:8080/"
        },
        "id": "TOVgA5FKFwxf",
        "outputId": "f6f2a4bf-9fbc-42a3-b65b-fbbf59c05716"
      },
      "execution_count": 69,
      "outputs": [
        {
          "output_type": "stream",
          "name": "stderr",
          "text": [
            "[nltk_data] Downloading package stopwords to /root/nltk_data...\n",
            "[nltk_data]   Package stopwords is already up-to-date!\n"
          ]
        },
        {
          "output_type": "execute_result",
          "data": {
            "text/plain": [
              "True"
            ]
          },
          "metadata": {},
          "execution_count": 69
        }
      ]
    },
    {
      "cell_type": "code",
      "source": [
        "!pip install np_utils"
      ],
      "metadata": {
        "colab": {
          "base_uri": "https://localhost:8080/"
        },
        "id": "cVuKmzFSFzkc",
        "outputId": "17e5a04f-1c72-4f11-d426-117687e0d2b1"
      },
      "execution_count": 70,
      "outputs": [
        {
          "output_type": "stream",
          "name": "stdout",
          "text": [
            "Looking in indexes: https://pypi.org/simple, https://us-python.pkg.dev/colab-wheels/public/simple/\n",
            "Requirement already satisfied: np_utils in /usr/local/lib/python3.7/dist-packages (0.6.0)\n",
            "Requirement already satisfied: numpy>=1.0 in /usr/local/lib/python3.7/dist-packages (from np_utils) (1.21.6)\n"
          ]
        }
      ]
    },
    {
      "cell_type": "code",
      "source": [
        "import numpy as np\n",
        "import pandas as pd\n",
        "from plotly.offline import iplot\n",
        "import matplotlib.pyplot as plt\n",
        "import seaborn as sns\n",
        "from tensorflow.keras.preprocessing.text import Tokenizer\n",
        "from tensorflow.keras.preprocessing.sequence import pad_sequences\n",
        "from tensorflow.keras.models import Sequential\n",
        "from tensorflow.keras.layers import Dense, Embedding, LSTM, SpatialDropout1D\n",
        "from sklearn.model_selection import train_test_split\n",
        "from keras.utils.np_utils import to_categorical\n",
        "from tensorflow.keras.callbacks import EarlyStopping\n",
        "from tensorflow.keras.layers import Dropout\n",
        "import re\n",
        "from nltk.corpus import stopwords\n",
        "from nltk import word_tokenize\n",
        "STOPWORDS = set(stopwords.words('english'))"
      ],
      "metadata": {
        "id": "WQt6L1xMF1rs"
      },
      "execution_count": 71,
      "outputs": []
    },
    {
      "cell_type": "code",
      "source": [
        "from google.colab import drive\n",
        "drive.mount('/content/drive')"
      ],
      "metadata": {
        "colab": {
          "base_uri": "https://localhost:8080/"
        },
        "id": "9h50AFEMCf1l",
        "outputId": "d24f9e8c-3968-4775-f585-47418bc58eca"
      },
      "execution_count": 72,
      "outputs": [
        {
          "output_type": "stream",
          "name": "stdout",
          "text": [
            "Drive already mounted at /content/drive; to attempt to forcibly remount, call drive.mount(\"/content/drive\", force_remount=True).\n"
          ]
        }
      ]
    },
    {
      "cell_type": "code",
      "source": [
        "import pandas as pd\n",
        "\n",
        "df = pd.read_csv(\"/content/drive/MyDrive/CV Sorting Project/resume_files.csv\")\n",
        "df.head(100)"
      ],
      "metadata": {
        "colab": {
          "base_uri": "https://localhost:8080/",
          "height": 424
        },
        "id": "37RJ6P9pCAlN",
        "outputId": "c9a66bac-3fe3-4337-ec14-cdb539e22148"
      },
      "execution_count": 74,
      "outputs": [
        {
          "output_type": "execute_result",
          "data": {
            "text/plain": [
              "    Unnamed: 0       Label                                             skills  \\\n",
              "0            0  ACCOUNTANT  ['Partnership', 'Compliance', 'Protocols', 'In...   \n",
              "1            1  ACCOUNTANT  ['Process', 'Certification', 'Vendors', 'Tax',...   \n",
              "2            2  ACCOUNTANT  ['Contracts', 'Inventory', 'Compliance', 'Peop...   \n",
              "3            3  ACCOUNTANT  ['Compliance', 'Invoices', 'Analytical', 'Regu...   \n",
              "4            4  ACCOUNTANT  ['Illustrator', 'Contracts', 'Inventory', 'Inv...   \n",
              "..         ...         ...                                                ...   \n",
              "95          98  ACCOUNTANT  ['Statistical analysis', 'Contracts', 'Invento...   \n",
              "96          99  ACCOUNTANT  ['Microsoft office suite', 'Partnership', 'Adm...   \n",
              "97         101  ACCOUNTANT  ['Real estate', 'Compliance', 'Peoplesoft', 'R...   \n",
              "98         103  ACCOUNTANT  ['Inventory', 'Compliance', 'Peoplesoft', 'Inv...   \n",
              "99         104  ACCOUNTANT  ['Annual budget', 'Contracts', 'Inventory', 'C...   \n",
              "\n",
              "                                           experience  \n",
              "0   ['Services', 'Financial statements, Bank recon...  \n",
              "1   ['Accountant Jul 2014 to Current', 'Company Na...  \n",
              "2   ['08/2014 to Current', 'Accountant Company Nam...  \n",
              "3   ['Company Name August 2012 to December 2014 Ac...  \n",
              "4   ['October 2011', 'to', 'August 2015', 'Company...  \n",
              "..                                                ...  \n",
              "95  ['Company Name August 2013 to Current Senior A...  \n",
              "96  ['11/2012 to 09/2013', 'Volunteer Accountant C...  \n",
              "97                                                 []  \n",
              "98  ['Payroll Accountant Apr 2014 to Current', 'Co...  \n",
              "99  ['oriented with proven track record of quick l...  \n",
              "\n",
              "[100 rows x 4 columns]"
            ],
            "text/html": [
              "\n",
              "  <div id=\"df-5654324a-4ac0-44a0-8a5a-f4165f865baf\">\n",
              "    <div class=\"colab-df-container\">\n",
              "      <div>\n",
              "<style scoped>\n",
              "    .dataframe tbody tr th:only-of-type {\n",
              "        vertical-align: middle;\n",
              "    }\n",
              "\n",
              "    .dataframe tbody tr th {\n",
              "        vertical-align: top;\n",
              "    }\n",
              "\n",
              "    .dataframe thead th {\n",
              "        text-align: right;\n",
              "    }\n",
              "</style>\n",
              "<table border=\"1\" class=\"dataframe\">\n",
              "  <thead>\n",
              "    <tr style=\"text-align: right;\">\n",
              "      <th></th>\n",
              "      <th>Unnamed: 0</th>\n",
              "      <th>Label</th>\n",
              "      <th>skills</th>\n",
              "      <th>experience</th>\n",
              "    </tr>\n",
              "  </thead>\n",
              "  <tbody>\n",
              "    <tr>\n",
              "      <th>0</th>\n",
              "      <td>0</td>\n",
              "      <td>ACCOUNTANT</td>\n",
              "      <td>['Partnership', 'Compliance', 'Protocols', 'In...</td>\n",
              "      <td>['Services', 'Financial statements, Bank recon...</td>\n",
              "    </tr>\n",
              "    <tr>\n",
              "      <th>1</th>\n",
              "      <td>1</td>\n",
              "      <td>ACCOUNTANT</td>\n",
              "      <td>['Process', 'Certification', 'Vendors', 'Tax',...</td>\n",
              "      <td>['Accountant Jul 2014 to Current', 'Company Na...</td>\n",
              "    </tr>\n",
              "    <tr>\n",
              "      <th>2</th>\n",
              "      <td>2</td>\n",
              "      <td>ACCOUNTANT</td>\n",
              "      <td>['Contracts', 'Inventory', 'Compliance', 'Peop...</td>\n",
              "      <td>['08/2014 to Current', 'Accountant Company Nam...</td>\n",
              "    </tr>\n",
              "    <tr>\n",
              "      <th>3</th>\n",
              "      <td>3</td>\n",
              "      <td>ACCOUNTANT</td>\n",
              "      <td>['Compliance', 'Invoices', 'Analytical', 'Regu...</td>\n",
              "      <td>['Company Name August 2012 to December 2014 Ac...</td>\n",
              "    </tr>\n",
              "    <tr>\n",
              "      <th>4</th>\n",
              "      <td>4</td>\n",
              "      <td>ACCOUNTANT</td>\n",
              "      <td>['Illustrator', 'Contracts', 'Inventory', 'Inv...</td>\n",
              "      <td>['October 2011', 'to', 'August 2015', 'Company...</td>\n",
              "    </tr>\n",
              "    <tr>\n",
              "      <th>...</th>\n",
              "      <td>...</td>\n",
              "      <td>...</td>\n",
              "      <td>...</td>\n",
              "      <td>...</td>\n",
              "    </tr>\n",
              "    <tr>\n",
              "      <th>95</th>\n",
              "      <td>98</td>\n",
              "      <td>ACCOUNTANT</td>\n",
              "      <td>['Statistical analysis', 'Contracts', 'Invento...</td>\n",
              "      <td>['Company Name August 2013 to Current Senior A...</td>\n",
              "    </tr>\n",
              "    <tr>\n",
              "      <th>96</th>\n",
              "      <td>99</td>\n",
              "      <td>ACCOUNTANT</td>\n",
              "      <td>['Microsoft office suite', 'Partnership', 'Adm...</td>\n",
              "      <td>['11/2012 to 09/2013', 'Volunteer Accountant C...</td>\n",
              "    </tr>\n",
              "    <tr>\n",
              "      <th>97</th>\n",
              "      <td>101</td>\n",
              "      <td>ACCOUNTANT</td>\n",
              "      <td>['Real estate', 'Compliance', 'Peoplesoft', 'R...</td>\n",
              "      <td>[]</td>\n",
              "    </tr>\n",
              "    <tr>\n",
              "      <th>98</th>\n",
              "      <td>103</td>\n",
              "      <td>ACCOUNTANT</td>\n",
              "      <td>['Inventory', 'Compliance', 'Peoplesoft', 'Inv...</td>\n",
              "      <td>['Payroll Accountant Apr 2014 to Current', 'Co...</td>\n",
              "    </tr>\n",
              "    <tr>\n",
              "      <th>99</th>\n",
              "      <td>104</td>\n",
              "      <td>ACCOUNTANT</td>\n",
              "      <td>['Annual budget', 'Contracts', 'Inventory', 'C...</td>\n",
              "      <td>['oriented with proven track record of quick l...</td>\n",
              "    </tr>\n",
              "  </tbody>\n",
              "</table>\n",
              "<p>100 rows × 4 columns</p>\n",
              "</div>\n",
              "      <button class=\"colab-df-convert\" onclick=\"convertToInteractive('df-5654324a-4ac0-44a0-8a5a-f4165f865baf')\"\n",
              "              title=\"Convert this dataframe to an interactive table.\"\n",
              "              style=\"display:none;\">\n",
              "        \n",
              "  <svg xmlns=\"http://www.w3.org/2000/svg\" height=\"24px\"viewBox=\"0 0 24 24\"\n",
              "       width=\"24px\">\n",
              "    <path d=\"M0 0h24v24H0V0z\" fill=\"none\"/>\n",
              "    <path d=\"M18.56 5.44l.94 2.06.94-2.06 2.06-.94-2.06-.94-.94-2.06-.94 2.06-2.06.94zm-11 1L8.5 8.5l.94-2.06 2.06-.94-2.06-.94L8.5 2.5l-.94 2.06-2.06.94zm10 10l.94 2.06.94-2.06 2.06-.94-2.06-.94-.94-2.06-.94 2.06-2.06.94z\"/><path d=\"M17.41 7.96l-1.37-1.37c-.4-.4-.92-.59-1.43-.59-.52 0-1.04.2-1.43.59L10.3 9.45l-7.72 7.72c-.78.78-.78 2.05 0 2.83L4 21.41c.39.39.9.59 1.41.59.51 0 1.02-.2 1.41-.59l7.78-7.78 2.81-2.81c.8-.78.8-2.07 0-2.86zM5.41 20L4 18.59l7.72-7.72 1.47 1.35L5.41 20z\"/>\n",
              "  </svg>\n",
              "      </button>\n",
              "      \n",
              "  <style>\n",
              "    .colab-df-container {\n",
              "      display:flex;\n",
              "      flex-wrap:wrap;\n",
              "      gap: 12px;\n",
              "    }\n",
              "\n",
              "    .colab-df-convert {\n",
              "      background-color: #E8F0FE;\n",
              "      border: none;\n",
              "      border-radius: 50%;\n",
              "      cursor: pointer;\n",
              "      display: none;\n",
              "      fill: #1967D2;\n",
              "      height: 32px;\n",
              "      padding: 0 0 0 0;\n",
              "      width: 32px;\n",
              "    }\n",
              "\n",
              "    .colab-df-convert:hover {\n",
              "      background-color: #E2EBFA;\n",
              "      box-shadow: 0px 1px 2px rgba(60, 64, 67, 0.3), 0px 1px 3px 1px rgba(60, 64, 67, 0.15);\n",
              "      fill: #174EA6;\n",
              "    }\n",
              "\n",
              "    [theme=dark] .colab-df-convert {\n",
              "      background-color: #3B4455;\n",
              "      fill: #D2E3FC;\n",
              "    }\n",
              "\n",
              "    [theme=dark] .colab-df-convert:hover {\n",
              "      background-color: #434B5C;\n",
              "      box-shadow: 0px 1px 3px 1px rgba(0, 0, 0, 0.15);\n",
              "      filter: drop-shadow(0px 1px 2px rgba(0, 0, 0, 0.3));\n",
              "      fill: #FFFFFF;\n",
              "    }\n",
              "  </style>\n",
              "\n",
              "      <script>\n",
              "        const buttonEl =\n",
              "          document.querySelector('#df-5654324a-4ac0-44a0-8a5a-f4165f865baf button.colab-df-convert');\n",
              "        buttonEl.style.display =\n",
              "          google.colab.kernel.accessAllowed ? 'block' : 'none';\n",
              "\n",
              "        async function convertToInteractive(key) {\n",
              "          const element = document.querySelector('#df-5654324a-4ac0-44a0-8a5a-f4165f865baf');\n",
              "          const dataTable =\n",
              "            await google.colab.kernel.invokeFunction('convertToInteractive',\n",
              "                                                     [key], {});\n",
              "          if (!dataTable) return;\n",
              "\n",
              "          const docLinkHtml = 'Like what you see? Visit the ' +\n",
              "            '<a target=\"_blank\" href=https://colab.research.google.com/notebooks/data_table.ipynb>data table notebook</a>'\n",
              "            + ' to learn more about interactive tables.';\n",
              "          element.innerHTML = '';\n",
              "          dataTable['output_type'] = 'display_data';\n",
              "          await google.colab.output.renderOutput(dataTable, element);\n",
              "          const docLink = document.createElement('div');\n",
              "          docLink.innerHTML = docLinkHtml;\n",
              "          element.appendChild(docLink);\n",
              "        }\n",
              "      </script>\n",
              "    </div>\n",
              "  </div>\n",
              "  "
            ]
          },
          "metadata": {},
          "execution_count": 74
        }
      ]
    },
    {
      "cell_type": "code",
      "source": [
        "df.groupby('Label').describe()"
      ],
      "metadata": {
        "colab": {
          "base_uri": "https://localhost:8080/",
          "height": 865
        },
        "id": "MlSSYoPaCvIR",
        "outputId": "b8142f7a-638a-4770-f1c1-76a385e7c698"
      },
      "execution_count": 75,
      "outputs": [
        {
          "output_type": "execute_result",
          "data": {
            "text/plain": [
              "                       Unnamed: 0                                          \\\n",
              "                            count       mean        std  min    25%   50%   \n",
              "Label                                                                       \n",
              "ACCOUNTANT                  112.0  57.794643  34.074148  0.0  28.75  57.5   \n",
              "ADVOCATE                    110.0  58.081818  33.630789  0.0  29.25  58.5   \n",
              "AGRICULTURE                  63.0  31.000000  18.330303  0.0  15.50  31.0   \n",
              "APPAREL                      93.0  48.827957  27.993254  0.0  25.00  49.0   \n",
              "ARTS                         99.0  51.444444  30.064971  0.0  26.50  51.0   \n",
              "AUTOMOBILE                   35.0  17.885714  10.428387  0.0   9.50  18.0   \n",
              "AVIATION                    115.0  57.295652  33.730088  0.0  28.50  57.0   \n",
              "BANKING                     112.0  56.875000  33.035914  0.0  28.75  56.5   \n",
              "BPO                          22.0  10.500000   6.493587  0.0   5.25  10.5   \n",
              "BUSINESS-DEVELOPMENT        115.0  59.634783  34.893404  0.0  30.50  60.0   \n",
              "CHEF                        114.0  58.868421  34.674597  0.0  29.25  60.5   \n",
              "CONSTRUCTION                105.0  55.085714  32.199532  0.0  28.00  56.0   \n",
              "CONSULTANT                  111.0  57.702703  33.279968  0.0  29.50  58.0   \n",
              "DESIGNER                     99.0  53.232323  31.289246  0.0  26.50  54.0   \n",
              "DIGITAL-MEDIA                92.0  48.652174  27.812336  0.0  25.75  49.5   \n",
              "ENGINEERING                 115.0  58.895652  34.163275  0.0  29.50  59.0   \n",
              "FINANCE                     113.0  58.318584  33.536032  0.0  30.00  58.0   \n",
              "FITNESS                     113.0  58.318584  34.341839  0.0  28.00  59.0   \n",
              "HEALTHCARE                  110.0  56.327273  33.072650  0.0  28.25  56.5   \n",
              "HR                          109.0  54.935780  31.714956  0.0  28.00  55.0   \n",
              "INFORMATION-TECHNOLOGY      118.0  59.440678  34.624615  0.0  30.25  59.5   \n",
              "PUBLIC-RELATIONS            104.0  55.625000  32.506067  0.0  27.50  56.5   \n",
              "SALES                       115.0  57.304348  33.711150  0.0  28.50  57.0   \n",
              "TEACHER                      92.0  50.391304  28.803600  1.0  26.75  49.5   \n",
              "\n",
              "                                      \n",
              "                          75%    max  \n",
              "Label                                 \n",
              "ACCOUNTANT              86.25  117.0  \n",
              "ADVOCATE                86.75  117.0  \n",
              "AGRICULTURE             46.50   62.0  \n",
              "APPAREL                 73.00   96.0  \n",
              "ARTS                    77.50  102.0  \n",
              "AUTOMOBILE              26.50   35.0  \n",
              "AVIATION                86.50  116.0  \n",
              "BANKING                 85.25  114.0  \n",
              "BPO                     15.75   21.0  \n",
              "BUSINESS-DEVELOPMENT    89.50  119.0  \n",
              "CHEF                    88.75  117.0  \n",
              "CONSTRUCTION            82.00  111.0  \n",
              "CONSULTANT              86.50  114.0  \n",
              "DESIGNER                80.50  106.0  \n",
              "DIGITAL-MEDIA           72.25   95.0  \n",
              "ENGINEERING             88.50  117.0  \n",
              "FINANCE                 86.00  116.0  \n",
              "FITNESS                 88.00  116.0  \n",
              "HEALTHCARE              83.75  114.0  \n",
              "HR                      82.00  109.0  \n",
              "INFORMATION-TECHNOLOGY  88.75  119.0  \n",
              "PUBLIC-RELATIONS        83.25  110.0  \n",
              "SALES                   86.50  115.0  \n",
              "TEACHER                 73.25  101.0  "
            ],
            "text/html": [
              "\n",
              "  <div id=\"df-7207ed70-25bd-47ce-88f7-d8a9b4720eb4\">\n",
              "    <div class=\"colab-df-container\">\n",
              "      <div>\n",
              "<style scoped>\n",
              "    .dataframe tbody tr th:only-of-type {\n",
              "        vertical-align: middle;\n",
              "    }\n",
              "\n",
              "    .dataframe tbody tr th {\n",
              "        vertical-align: top;\n",
              "    }\n",
              "\n",
              "    .dataframe thead tr th {\n",
              "        text-align: left;\n",
              "    }\n",
              "\n",
              "    .dataframe thead tr:last-of-type th {\n",
              "        text-align: right;\n",
              "    }\n",
              "</style>\n",
              "<table border=\"1\" class=\"dataframe\">\n",
              "  <thead>\n",
              "    <tr>\n",
              "      <th></th>\n",
              "      <th colspan=\"8\" halign=\"left\">Unnamed: 0</th>\n",
              "    </tr>\n",
              "    <tr>\n",
              "      <th></th>\n",
              "      <th>count</th>\n",
              "      <th>mean</th>\n",
              "      <th>std</th>\n",
              "      <th>min</th>\n",
              "      <th>25%</th>\n",
              "      <th>50%</th>\n",
              "      <th>75%</th>\n",
              "      <th>max</th>\n",
              "    </tr>\n",
              "    <tr>\n",
              "      <th>Label</th>\n",
              "      <th></th>\n",
              "      <th></th>\n",
              "      <th></th>\n",
              "      <th></th>\n",
              "      <th></th>\n",
              "      <th></th>\n",
              "      <th></th>\n",
              "      <th></th>\n",
              "    </tr>\n",
              "  </thead>\n",
              "  <tbody>\n",
              "    <tr>\n",
              "      <th>ACCOUNTANT</th>\n",
              "      <td>112.0</td>\n",
              "      <td>57.794643</td>\n",
              "      <td>34.074148</td>\n",
              "      <td>0.0</td>\n",
              "      <td>28.75</td>\n",
              "      <td>57.5</td>\n",
              "      <td>86.25</td>\n",
              "      <td>117.0</td>\n",
              "    </tr>\n",
              "    <tr>\n",
              "      <th>ADVOCATE</th>\n",
              "      <td>110.0</td>\n",
              "      <td>58.081818</td>\n",
              "      <td>33.630789</td>\n",
              "      <td>0.0</td>\n",
              "      <td>29.25</td>\n",
              "      <td>58.5</td>\n",
              "      <td>86.75</td>\n",
              "      <td>117.0</td>\n",
              "    </tr>\n",
              "    <tr>\n",
              "      <th>AGRICULTURE</th>\n",
              "      <td>63.0</td>\n",
              "      <td>31.000000</td>\n",
              "      <td>18.330303</td>\n",
              "      <td>0.0</td>\n",
              "      <td>15.50</td>\n",
              "      <td>31.0</td>\n",
              "      <td>46.50</td>\n",
              "      <td>62.0</td>\n",
              "    </tr>\n",
              "    <tr>\n",
              "      <th>APPAREL</th>\n",
              "      <td>93.0</td>\n",
              "      <td>48.827957</td>\n",
              "      <td>27.993254</td>\n",
              "      <td>0.0</td>\n",
              "      <td>25.00</td>\n",
              "      <td>49.0</td>\n",
              "      <td>73.00</td>\n",
              "      <td>96.0</td>\n",
              "    </tr>\n",
              "    <tr>\n",
              "      <th>ARTS</th>\n",
              "      <td>99.0</td>\n",
              "      <td>51.444444</td>\n",
              "      <td>30.064971</td>\n",
              "      <td>0.0</td>\n",
              "      <td>26.50</td>\n",
              "      <td>51.0</td>\n",
              "      <td>77.50</td>\n",
              "      <td>102.0</td>\n",
              "    </tr>\n",
              "    <tr>\n",
              "      <th>AUTOMOBILE</th>\n",
              "      <td>35.0</td>\n",
              "      <td>17.885714</td>\n",
              "      <td>10.428387</td>\n",
              "      <td>0.0</td>\n",
              "      <td>9.50</td>\n",
              "      <td>18.0</td>\n",
              "      <td>26.50</td>\n",
              "      <td>35.0</td>\n",
              "    </tr>\n",
              "    <tr>\n",
              "      <th>AVIATION</th>\n",
              "      <td>115.0</td>\n",
              "      <td>57.295652</td>\n",
              "      <td>33.730088</td>\n",
              "      <td>0.0</td>\n",
              "      <td>28.50</td>\n",
              "      <td>57.0</td>\n",
              "      <td>86.50</td>\n",
              "      <td>116.0</td>\n",
              "    </tr>\n",
              "    <tr>\n",
              "      <th>BANKING</th>\n",
              "      <td>112.0</td>\n",
              "      <td>56.875000</td>\n",
              "      <td>33.035914</td>\n",
              "      <td>0.0</td>\n",
              "      <td>28.75</td>\n",
              "      <td>56.5</td>\n",
              "      <td>85.25</td>\n",
              "      <td>114.0</td>\n",
              "    </tr>\n",
              "    <tr>\n",
              "      <th>BPO</th>\n",
              "      <td>22.0</td>\n",
              "      <td>10.500000</td>\n",
              "      <td>6.493587</td>\n",
              "      <td>0.0</td>\n",
              "      <td>5.25</td>\n",
              "      <td>10.5</td>\n",
              "      <td>15.75</td>\n",
              "      <td>21.0</td>\n",
              "    </tr>\n",
              "    <tr>\n",
              "      <th>BUSINESS-DEVELOPMENT</th>\n",
              "      <td>115.0</td>\n",
              "      <td>59.634783</td>\n",
              "      <td>34.893404</td>\n",
              "      <td>0.0</td>\n",
              "      <td>30.50</td>\n",
              "      <td>60.0</td>\n",
              "      <td>89.50</td>\n",
              "      <td>119.0</td>\n",
              "    </tr>\n",
              "    <tr>\n",
              "      <th>CHEF</th>\n",
              "      <td>114.0</td>\n",
              "      <td>58.868421</td>\n",
              "      <td>34.674597</td>\n",
              "      <td>0.0</td>\n",
              "      <td>29.25</td>\n",
              "      <td>60.5</td>\n",
              "      <td>88.75</td>\n",
              "      <td>117.0</td>\n",
              "    </tr>\n",
              "    <tr>\n",
              "      <th>CONSTRUCTION</th>\n",
              "      <td>105.0</td>\n",
              "      <td>55.085714</td>\n",
              "      <td>32.199532</td>\n",
              "      <td>0.0</td>\n",
              "      <td>28.00</td>\n",
              "      <td>56.0</td>\n",
              "      <td>82.00</td>\n",
              "      <td>111.0</td>\n",
              "    </tr>\n",
              "    <tr>\n",
              "      <th>CONSULTANT</th>\n",
              "      <td>111.0</td>\n",
              "      <td>57.702703</td>\n",
              "      <td>33.279968</td>\n",
              "      <td>0.0</td>\n",
              "      <td>29.50</td>\n",
              "      <td>58.0</td>\n",
              "      <td>86.50</td>\n",
              "      <td>114.0</td>\n",
              "    </tr>\n",
              "    <tr>\n",
              "      <th>DESIGNER</th>\n",
              "      <td>99.0</td>\n",
              "      <td>53.232323</td>\n",
              "      <td>31.289246</td>\n",
              "      <td>0.0</td>\n",
              "      <td>26.50</td>\n",
              "      <td>54.0</td>\n",
              "      <td>80.50</td>\n",
              "      <td>106.0</td>\n",
              "    </tr>\n",
              "    <tr>\n",
              "      <th>DIGITAL-MEDIA</th>\n",
              "      <td>92.0</td>\n",
              "      <td>48.652174</td>\n",
              "      <td>27.812336</td>\n",
              "      <td>0.0</td>\n",
              "      <td>25.75</td>\n",
              "      <td>49.5</td>\n",
              "      <td>72.25</td>\n",
              "      <td>95.0</td>\n",
              "    </tr>\n",
              "    <tr>\n",
              "      <th>ENGINEERING</th>\n",
              "      <td>115.0</td>\n",
              "      <td>58.895652</td>\n",
              "      <td>34.163275</td>\n",
              "      <td>0.0</td>\n",
              "      <td>29.50</td>\n",
              "      <td>59.0</td>\n",
              "      <td>88.50</td>\n",
              "      <td>117.0</td>\n",
              "    </tr>\n",
              "    <tr>\n",
              "      <th>FINANCE</th>\n",
              "      <td>113.0</td>\n",
              "      <td>58.318584</td>\n",
              "      <td>33.536032</td>\n",
              "      <td>0.0</td>\n",
              "      <td>30.00</td>\n",
              "      <td>58.0</td>\n",
              "      <td>86.00</td>\n",
              "      <td>116.0</td>\n",
              "    </tr>\n",
              "    <tr>\n",
              "      <th>FITNESS</th>\n",
              "      <td>113.0</td>\n",
              "      <td>58.318584</td>\n",
              "      <td>34.341839</td>\n",
              "      <td>0.0</td>\n",
              "      <td>28.00</td>\n",
              "      <td>59.0</td>\n",
              "      <td>88.00</td>\n",
              "      <td>116.0</td>\n",
              "    </tr>\n",
              "    <tr>\n",
              "      <th>HEALTHCARE</th>\n",
              "      <td>110.0</td>\n",
              "      <td>56.327273</td>\n",
              "      <td>33.072650</td>\n",
              "      <td>0.0</td>\n",
              "      <td>28.25</td>\n",
              "      <td>56.5</td>\n",
              "      <td>83.75</td>\n",
              "      <td>114.0</td>\n",
              "    </tr>\n",
              "    <tr>\n",
              "      <th>HR</th>\n",
              "      <td>109.0</td>\n",
              "      <td>54.935780</td>\n",
              "      <td>31.714956</td>\n",
              "      <td>0.0</td>\n",
              "      <td>28.00</td>\n",
              "      <td>55.0</td>\n",
              "      <td>82.00</td>\n",
              "      <td>109.0</td>\n",
              "    </tr>\n",
              "    <tr>\n",
              "      <th>INFORMATION-TECHNOLOGY</th>\n",
              "      <td>118.0</td>\n",
              "      <td>59.440678</td>\n",
              "      <td>34.624615</td>\n",
              "      <td>0.0</td>\n",
              "      <td>30.25</td>\n",
              "      <td>59.5</td>\n",
              "      <td>88.75</td>\n",
              "      <td>119.0</td>\n",
              "    </tr>\n",
              "    <tr>\n",
              "      <th>PUBLIC-RELATIONS</th>\n",
              "      <td>104.0</td>\n",
              "      <td>55.625000</td>\n",
              "      <td>32.506067</td>\n",
              "      <td>0.0</td>\n",
              "      <td>27.50</td>\n",
              "      <td>56.5</td>\n",
              "      <td>83.25</td>\n",
              "      <td>110.0</td>\n",
              "    </tr>\n",
              "    <tr>\n",
              "      <th>SALES</th>\n",
              "      <td>115.0</td>\n",
              "      <td>57.304348</td>\n",
              "      <td>33.711150</td>\n",
              "      <td>0.0</td>\n",
              "      <td>28.50</td>\n",
              "      <td>57.0</td>\n",
              "      <td>86.50</td>\n",
              "      <td>115.0</td>\n",
              "    </tr>\n",
              "    <tr>\n",
              "      <th>TEACHER</th>\n",
              "      <td>92.0</td>\n",
              "      <td>50.391304</td>\n",
              "      <td>28.803600</td>\n",
              "      <td>1.0</td>\n",
              "      <td>26.75</td>\n",
              "      <td>49.5</td>\n",
              "      <td>73.25</td>\n",
              "      <td>101.0</td>\n",
              "    </tr>\n",
              "  </tbody>\n",
              "</table>\n",
              "</div>\n",
              "      <button class=\"colab-df-convert\" onclick=\"convertToInteractive('df-7207ed70-25bd-47ce-88f7-d8a9b4720eb4')\"\n",
              "              title=\"Convert this dataframe to an interactive table.\"\n",
              "              style=\"display:none;\">\n",
              "        \n",
              "  <svg xmlns=\"http://www.w3.org/2000/svg\" height=\"24px\"viewBox=\"0 0 24 24\"\n",
              "       width=\"24px\">\n",
              "    <path d=\"M0 0h24v24H0V0z\" fill=\"none\"/>\n",
              "    <path d=\"M18.56 5.44l.94 2.06.94-2.06 2.06-.94-2.06-.94-.94-2.06-.94 2.06-2.06.94zm-11 1L8.5 8.5l.94-2.06 2.06-.94-2.06-.94L8.5 2.5l-.94 2.06-2.06.94zm10 10l.94 2.06.94-2.06 2.06-.94-2.06-.94-.94-2.06-.94 2.06-2.06.94z\"/><path d=\"M17.41 7.96l-1.37-1.37c-.4-.4-.92-.59-1.43-.59-.52 0-1.04.2-1.43.59L10.3 9.45l-7.72 7.72c-.78.78-.78 2.05 0 2.83L4 21.41c.39.39.9.59 1.41.59.51 0 1.02-.2 1.41-.59l7.78-7.78 2.81-2.81c.8-.78.8-2.07 0-2.86zM5.41 20L4 18.59l7.72-7.72 1.47 1.35L5.41 20z\"/>\n",
              "  </svg>\n",
              "      </button>\n",
              "      \n",
              "  <style>\n",
              "    .colab-df-container {\n",
              "      display:flex;\n",
              "      flex-wrap:wrap;\n",
              "      gap: 12px;\n",
              "    }\n",
              "\n",
              "    .colab-df-convert {\n",
              "      background-color: #E8F0FE;\n",
              "      border: none;\n",
              "      border-radius: 50%;\n",
              "      cursor: pointer;\n",
              "      display: none;\n",
              "      fill: #1967D2;\n",
              "      height: 32px;\n",
              "      padding: 0 0 0 0;\n",
              "      width: 32px;\n",
              "    }\n",
              "\n",
              "    .colab-df-convert:hover {\n",
              "      background-color: #E2EBFA;\n",
              "      box-shadow: 0px 1px 2px rgba(60, 64, 67, 0.3), 0px 1px 3px 1px rgba(60, 64, 67, 0.15);\n",
              "      fill: #174EA6;\n",
              "    }\n",
              "\n",
              "    [theme=dark] .colab-df-convert {\n",
              "      background-color: #3B4455;\n",
              "      fill: #D2E3FC;\n",
              "    }\n",
              "\n",
              "    [theme=dark] .colab-df-convert:hover {\n",
              "      background-color: #434B5C;\n",
              "      box-shadow: 0px 1px 3px 1px rgba(0, 0, 0, 0.15);\n",
              "      filter: drop-shadow(0px 1px 2px rgba(0, 0, 0, 0.3));\n",
              "      fill: #FFFFFF;\n",
              "    }\n",
              "  </style>\n",
              "\n",
              "      <script>\n",
              "        const buttonEl =\n",
              "          document.querySelector('#df-7207ed70-25bd-47ce-88f7-d8a9b4720eb4 button.colab-df-convert');\n",
              "        buttonEl.style.display =\n",
              "          google.colab.kernel.accessAllowed ? 'block' : 'none';\n",
              "\n",
              "        async function convertToInteractive(key) {\n",
              "          const element = document.querySelector('#df-7207ed70-25bd-47ce-88f7-d8a9b4720eb4');\n",
              "          const dataTable =\n",
              "            await google.colab.kernel.invokeFunction('convertToInteractive',\n",
              "                                                     [key], {});\n",
              "          if (!dataTable) return;\n",
              "\n",
              "          const docLinkHtml = 'Like what you see? Visit the ' +\n",
              "            '<a target=\"_blank\" href=https://colab.research.google.com/notebooks/data_table.ipynb>data table notebook</a>'\n",
              "            + ' to learn more about interactive tables.';\n",
              "          element.innerHTML = '';\n",
              "          dataTable['output_type'] = 'display_data';\n",
              "          await google.colab.output.renderOutput(dataTable, element);\n",
              "          const docLink = document.createElement('div');\n",
              "          docLink.innerHTML = docLinkHtml;\n",
              "          element.appendChild(docLink);\n",
              "        }\n",
              "      </script>\n",
              "    </div>\n",
              "  </div>\n",
              "  "
            ]
          },
          "metadata": {},
          "execution_count": 75
        }
      ]
    },
    {
      "cell_type": "code",
      "source": [
        "df['Label'].value_counts()"
      ],
      "metadata": {
        "colab": {
          "base_uri": "https://localhost:8080/"
        },
        "id": "EgNfVYh7CxuS",
        "outputId": "1fae839a-d714-4bb1-8340-2af01e174b07"
      },
      "execution_count": 76,
      "outputs": [
        {
          "output_type": "execute_result",
          "data": {
            "text/plain": [
              "INFORMATION-TECHNOLOGY    118\n",
              "SALES                     115\n",
              "AVIATION                  115\n",
              "ENGINEERING               115\n",
              "BUSINESS-DEVELOPMENT      115\n",
              "CHEF                      114\n",
              "FITNESS                   113\n",
              "FINANCE                   113\n",
              "ACCOUNTANT                112\n",
              "BANKING                   112\n",
              "CONSULTANT                111\n",
              "ADVOCATE                  110\n",
              "HEALTHCARE                110\n",
              "HR                        109\n",
              "CONSTRUCTION              105\n",
              "PUBLIC-RELATIONS          104\n",
              "DESIGNER                   99\n",
              "ARTS                       99\n",
              "APPAREL                    93\n",
              "DIGITAL-MEDIA              92\n",
              "TEACHER                    92\n",
              "AGRICULTURE                63\n",
              "AUTOMOBILE                 35\n",
              "BPO                        22\n",
              "Name: Label, dtype: int64"
            ]
          },
          "metadata": {},
          "execution_count": 76
        }
      ]
    },
    {
      "cell_type": "code",
      "source": [
        "def example_complain(index):\n",
        "    example = df[df.index == index][['skills', 'Label']].values[0]\n",
        "    if len(example) > 0:\n",
        "        print(example[0])\n",
        "        print()\n",
        "        print('Category:', example[1])"
      ],
      "metadata": {
        "id": "KI0jAyqaC7Cy"
      },
      "execution_count": 77,
      "outputs": []
    },
    {
      "cell_type": "code",
      "source": [
        "example_complain(10)"
      ],
      "metadata": {
        "colab": {
          "base_uri": "https://localhost:8080/"
        },
        "id": "L7YZ2_BuFeKz",
        "outputId": "ea38d9eb-e244-4abd-fedb-b5b99f8eb511"
      },
      "execution_count": 78,
      "outputs": [
        {
          "output_type": "stream",
          "name": "stdout",
          "text": [
            "['Ms excel', 'Partnership', 'Inventory', 'Contracts', 'Training', 'Windows', 'Accounts receivable', 'Audit', 'Technical', 'Transactions', 'Staffing', 'Purchase orders', 'Merchandising', 'Public relations', 'Microsoft office', 'Quality assurance', 'Safety', 'Accounts payable', 'Payroll', 'Sales', 'Supervisor', 'Writing', 'Reports', 'Forecasting', 'Budgeting', 'Customer service', 'Logistics', 'Warehouse', 'Economics', 'Reporting', 'Reconcile', 'Schedule', 'Retail', 'Networking', 'Accounting', 'Ordering', 'Excel', 'Process', 'System', 'Vendors', 'Standard operating procedures', 'Tax', 'Troubleshooting', 'Project management', 'Billing', 'Operations', 'Assembly']\n",
            "\n",
            "Category: ACCOUNTANT\n"
          ]
        }
      ]
    },
    {
      "cell_type": "code",
      "source": [
        "data = df.reset_index(drop=True)\n",
        "REPLACE_BY_SPACE_RE = re.compile('[/(){}\\[\\]\\|@,;]')\n",
        "BAD_SYMBOLS_RE = re.compile('[^0-9a-z #+_]')\n",
        "STOPWORDS = set(stopwords.words('english'))\n",
        "\n",
        "def clean_text(text):\n",
        "    \"\"\"\n",
        "        text: a string\n",
        "        \n",
        "        return: modified initial string\n",
        "    \"\"\"\n",
        "    text = text.lower() # lowercase text\n",
        "    text = REPLACE_BY_SPACE_RE.sub(' ', text) # replace REPLACE_BY_SPACE_RE symbols by space in text. substitute the matched string in REPLACE_BY_SPACE_RE with space.\n",
        "    text = BAD_SYMBOLS_RE.sub('', text) # remove symbols which are in BAD_SYMBOLS_RE from text. substitute the matched string in BAD_SYMBOLS_RE with nothing. \n",
        "    text = text.replace('x', '')\n",
        "#    text = re.sub(r'\\W+', '', text)\n",
        "    text = ' '.join(word for word in text.split() if word not in STOPWORDS) # remove stopwors from text\n",
        "    return text\n",
        "df['skills'] = data['skills'].apply(clean_text)"
      ],
      "metadata": {
        "id": "PudEzKgBFhwp"
      },
      "execution_count": 79,
      "outputs": []
    },
    {
      "cell_type": "code",
      "source": [
        "example_complain(10)"
      ],
      "metadata": {
        "colab": {
          "base_uri": "https://localhost:8080/"
        },
        "id": "MgpPbkz0F4Nx",
        "outputId": "b5068d18-0da4-49c4-b40f-93ad9478dd4c"
      },
      "execution_count": 80,
      "outputs": [
        {
          "output_type": "stream",
          "name": "stdout",
          "text": [
            "ms ecel partnership inventory contracts training windows accounts receivable audit technical transactions staffing purchase orders merchandising public relations microsoft office quality assurance safety accounts payable payroll sales supervisor writing reports forecasting budgeting customer service logistics warehouse economics reporting reconcile schedule retail networking accounting ordering ecel process system vendors standard operating procedures ta troubleshooting project management billing operations assembly\n",
            "\n",
            "Category: ACCOUNTANT\n"
          ]
        }
      ]
    },
    {
      "cell_type": "code",
      "source": [
        "# The maximum number of words to be used. (most frequent)\n",
        "MAX_NB_WORDS = 50000\n",
        "# Max number of words in each complaint.\n",
        "MAX_SEQUENCE_LENGTH = 250\n",
        "# This is fixed.\n",
        "EMBEDDING_DIM = 100\n",
        "\n",
        "tokenizer = Tokenizer(num_words=MAX_NB_WORDS, filters='!\"#$%&()*+,-./:;<=>?@[\\]^_`{|}~', lower=True)\n",
        "tokenizer.fit_on_texts(df['skills'].values)\n",
        "word_index = tokenizer.word_index\n",
        "print('Found %s unique tokens.' % len(word_index))"
      ],
      "metadata": {
        "colab": {
          "base_uri": "https://localhost:8080/"
        },
        "id": "WSnKa6shF-05",
        "outputId": "627bd9b0-c2f9-4eec-8895-91fd7f875b68"
      },
      "execution_count": 81,
      "outputs": [
        {
          "output_type": "stream",
          "name": "stdout",
          "text": [
            "Found 638 unique tokens.\n"
          ]
        }
      ]
    },
    {
      "cell_type": "code",
      "source": [
        "X = tokenizer.texts_to_sequences(df['skills'].values)\n",
        "X = pad_sequences(X, maxlen=MAX_SEQUENCE_LENGTH)\n",
        "print('Shape of df tensor:', X.shape)"
      ],
      "metadata": {
        "colab": {
          "base_uri": "https://localhost:8080/"
        },
        "id": "LIJxqg1eGJIZ",
        "outputId": "e6c7242e-4312-44a8-f0b4-bbb5146b1305"
      },
      "execution_count": 82,
      "outputs": [
        {
          "output_type": "stream",
          "name": "stdout",
          "text": [
            "Shape of df tensor: (2386, 250)\n"
          ]
        }
      ]
    },
    {
      "cell_type": "code",
      "source": [
        "Y = pd.get_dummies(df['Label']).values\n",
        "print('Shape of label tensor:', Y.shape)"
      ],
      "metadata": {
        "colab": {
          "base_uri": "https://localhost:8080/"
        },
        "id": "hFDV101HGM3Q",
        "outputId": "f1e65b8f-a922-4636-8238-be73095b5a18"
      },
      "execution_count": 83,
      "outputs": [
        {
          "output_type": "stream",
          "name": "stdout",
          "text": [
            "Shape of label tensor: (2386, 24)\n"
          ]
        }
      ]
    },
    {
      "cell_type": "code",
      "source": [
        "X_train, X_test, Y_train, Y_test = train_test_split(X,Y, test_size = 0.10, random_state = 42)\n",
        "print(X_train.shape,Y_train.shape)\n",
        "print(X_test.shape,Y_test.shape)"
      ],
      "metadata": {
        "colab": {
          "base_uri": "https://localhost:8080/"
        },
        "id": "_X6Cc7hBGUkx",
        "outputId": "5511c634-4848-4c2d-b456-779cce4f36e4"
      },
      "execution_count": 84,
      "outputs": [
        {
          "output_type": "stream",
          "name": "stdout",
          "text": [
            "(2147, 250) (2147, 24)\n",
            "(239, 250) (239, 24)\n"
          ]
        }
      ]
    },
    {
      "cell_type": "code",
      "source": [],
      "metadata": {
        "id": "U_7iljFPGB6m"
      },
      "execution_count": 54,
      "outputs": []
    },
    {
      "cell_type": "code",
      "source": [
        "model = Sequential()\n",
        "model.add(Embedding(MAX_NB_WORDS, EMBEDDING_DIM, input_length=X.shape[1]))\n",
        "model.add(SpatialDropout1D(0.2))\n",
        "model.add(LSTM(100, dropout=0.2, recurrent_dropout=0.2))\n",
        "model.add(Dense(24, activation='sigmoid'))\n",
        "model.compile(loss='categorical_crossentropy', optimizer='adam', metrics=['accuracy'])\n",
        "print(model.summary())"
      ],
      "metadata": {
        "colab": {
          "base_uri": "https://localhost:8080/"
        },
        "id": "wyfXiK3pGXXZ",
        "outputId": "58a2e429-79bf-4382-ecc3-62de9f4ffbac"
      },
      "execution_count": 90,
      "outputs": [
        {
          "output_type": "stream",
          "name": "stdout",
          "text": [
            "Model: \"sequential_15\"\n",
            "_________________________________________________________________\n",
            " Layer (type)                Output Shape              Param #   \n",
            "=================================================================\n",
            " embedding_15 (Embedding)    (None, 250, 100)          5000000   \n",
            "                                                                 \n",
            " spatial_dropout1d_9 (Spatia  (None, 250, 100)         0         \n",
            " lDropout1D)                                                     \n",
            "                                                                 \n",
            " lstm_15 (LSTM)              (None, 100)               80400     \n",
            "                                                                 \n",
            " dense_15 (Dense)            (None, 24)                2424      \n",
            "                                                                 \n",
            "=================================================================\n",
            "Total params: 5,082,824\n",
            "Trainable params: 5,082,824\n",
            "Non-trainable params: 0\n",
            "_________________________________________________________________\n",
            "None\n"
          ]
        }
      ]
    },
    {
      "cell_type": "code",
      "source": [
        "epochs = 30\n",
        "batch_size = 64\n",
        "\n",
        "history = model.fit(X_train, Y_train, epochs=epochs,\n",
        "                    batch_size=batch_size,validation_split=0.1,\n",
        "                    callbacks=[EarlyStopping(monitor='val_loss', patience=5,min_delta=0.0001, verbose=0, mode='auto')])\n"
      ],
      "metadata": {
        "colab": {
          "base_uri": "https://localhost:8080/"
        },
        "id": "QrOEX4AIGcg5",
        "outputId": "c6030386-e224-41ec-b484-d162a0f35f24"
      },
      "execution_count": 91,
      "outputs": [
        {
          "output_type": "stream",
          "name": "stdout",
          "text": [
            "Epoch 1/30\n"
          ]
        },
        {
          "output_type": "stream",
          "name": "stderr",
          "text": [
            "WARNING:tensorflow:AutoGraph could not transform <function Model.make_train_function.<locals>.train_function at 0x7f8068579d40> and will run it as-is.\n",
            "Please report this to the TensorFlow team. When filing the bug, set the verbosity to 10 (on Linux, `export AUTOGRAPH_VERBOSITY=10`) and attach the full output.\n",
            "Cause: closure mismatch, requested ('self', 'step_function'), but source function had ()\n",
            "To silence this warning, decorate the function with @tf.autograph.experimental.do_not_convert\n"
          ]
        },
        {
          "output_type": "stream",
          "name": "stdout",
          "text": [
            "WARNING: AutoGraph could not transform <function Model.make_train_function.<locals>.train_function at 0x7f8068579d40> and will run it as-is.\n",
            "Please report this to the TensorFlow team. When filing the bug, set the verbosity to 10 (on Linux, `export AUTOGRAPH_VERBOSITY=10`) and attach the full output.\n",
            "Cause: closure mismatch, requested ('self', 'step_function'), but source function had ()\n",
            "To silence this warning, decorate the function with @tf.autograph.experimental.do_not_convert\n",
            "31/31 [==============================] - ETA: 0s - loss: 3.1514 - accuracy: 0.0932"
          ]
        },
        {
          "output_type": "stream",
          "name": "stderr",
          "text": [
            "WARNING:tensorflow:AutoGraph could not transform <function Model.make_test_function.<locals>.test_function at 0x7f8065d188c0> and will run it as-is.\n",
            "Please report this to the TensorFlow team. When filing the bug, set the verbosity to 10 (on Linux, `export AUTOGRAPH_VERBOSITY=10`) and attach the full output.\n",
            "Cause: closure mismatch, requested ('self', 'step_function'), but source function had ()\n",
            "To silence this warning, decorate the function with @tf.autograph.experimental.do_not_convert\n"
          ]
        },
        {
          "output_type": "stream",
          "name": "stdout",
          "text": [
            "WARNING: AutoGraph could not transform <function Model.make_test_function.<locals>.test_function at 0x7f8065d188c0> and will run it as-is.\n",
            "Please report this to the TensorFlow team. When filing the bug, set the verbosity to 10 (on Linux, `export AUTOGRAPH_VERBOSITY=10`) and attach the full output.\n",
            "Cause: closure mismatch, requested ('self', 'step_function'), but source function had ()\n",
            "To silence this warning, decorate the function with @tf.autograph.experimental.do_not_convert\n",
            "31/31 [==============================] - 29s 851ms/step - loss: 3.1514 - accuracy: 0.0932 - val_loss: 3.0851 - val_accuracy: 0.1628\n",
            "Epoch 2/30\n",
            "31/31 [==============================] - 23s 736ms/step - loss: 2.9840 - accuracy: 0.1284 - val_loss: 2.8610 - val_accuracy: 0.0930\n",
            "Epoch 3/30\n",
            "31/31 [==============================] - 23s 735ms/step - loss: 2.6956 - accuracy: 0.2008 - val_loss: 2.6471 - val_accuracy: 0.1953\n",
            "Epoch 4/30\n",
            "31/31 [==============================] - 23s 735ms/step - loss: 2.5138 - accuracy: 0.2598 - val_loss: 2.5525 - val_accuracy: 0.2279\n",
            "Epoch 5/30\n",
            "31/31 [==============================] - 22s 725ms/step - loss: 2.3437 - accuracy: 0.3173 - val_loss: 2.4294 - val_accuracy: 0.2744\n",
            "Epoch 6/30\n",
            "31/31 [==============================] - 22s 725ms/step - loss: 2.1730 - accuracy: 0.3711 - val_loss: 2.3089 - val_accuracy: 0.3070\n",
            "Epoch 7/30\n",
            "31/31 [==============================] - 23s 735ms/step - loss: 2.0324 - accuracy: 0.4151 - val_loss: 2.2523 - val_accuracy: 0.3023\n",
            "Epoch 8/30\n",
            "31/31 [==============================] - 23s 728ms/step - loss: 1.8933 - accuracy: 0.4529 - val_loss: 2.1786 - val_accuracy: 0.3721\n",
            "Epoch 9/30\n",
            "31/31 [==============================] - 26s 830ms/step - loss: 1.7881 - accuracy: 0.4814 - val_loss: 2.2198 - val_accuracy: 0.3349\n",
            "Epoch 10/30\n",
            "31/31 [==============================] - 23s 729ms/step - loss: 1.7140 - accuracy: 0.5005 - val_loss: 2.1679 - val_accuracy: 0.3488\n",
            "Epoch 11/30\n",
            "31/31 [==============================] - 22s 723ms/step - loss: 1.6553 - accuracy: 0.5104 - val_loss: 2.1726 - val_accuracy: 0.3581\n",
            "Epoch 12/30\n",
            "31/31 [==============================] - 22s 720ms/step - loss: 1.5392 - accuracy: 0.5404 - val_loss: 2.0816 - val_accuracy: 0.3953\n",
            "Epoch 13/30\n",
            "31/31 [==============================] - 23s 727ms/step - loss: 1.4825 - accuracy: 0.5606 - val_loss: 2.1693 - val_accuracy: 0.3907\n",
            "Epoch 14/30\n",
            "31/31 [==============================] - 23s 729ms/step - loss: 1.4232 - accuracy: 0.5802 - val_loss: 2.1758 - val_accuracy: 0.3953\n",
            "Epoch 15/30\n",
            "31/31 [==============================] - 23s 738ms/step - loss: 1.4100 - accuracy: 0.5833 - val_loss: 2.1177 - val_accuracy: 0.4093\n",
            "Epoch 16/30\n",
            "31/31 [==============================] - 23s 732ms/step - loss: 1.3192 - accuracy: 0.6222 - val_loss: 2.1967 - val_accuracy: 0.3767\n",
            "Epoch 17/30\n",
            "31/31 [==============================] - 26s 826ms/step - loss: 1.2752 - accuracy: 0.6232 - val_loss: 2.2180 - val_accuracy: 0.3907\n"
          ]
        }
      ]
    },
    {
      "cell_type": "code",
      "source": [],
      "metadata": {
        "id": "4GONTHsJGj2p"
      },
      "execution_count": null,
      "outputs": []
    }
  ]
}